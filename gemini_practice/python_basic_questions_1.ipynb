{
 "cells": [
  {
   "cell_type": "code",
   "execution_count": 5,
   "metadata": {},
   "outputs": [],
   "source": [
    "def reverse_letters_sent(fed_sentence):\n",
    "    list_dump = []\n",
    "    list_dump_reversed = []\n",
    "    list_dump.append(fed_sentence.split(\" \"))\n",
    "    print(\"list_dump\",list_dump)\n",
    "    for i in list_dump:\n",
    "        i = i[::-1]\n",
    "        print(i)\n",
    "        list_dump_reversed.append(i)\n",
    "    for i in list_dump_reversed:\n",
    "        final_ans = \" \".join(i)\n",
    "    return final_ans\n",
    "\n"
   ]
  },
  {
   "cell_type": "code",
   "execution_count": 6,
   "metadata": {},
   "outputs": [
    {
     "name": "stdout",
     "output_type": "stream",
     "text": [
      "list_dump [['Hello', 'how', 'are', 'you']]\n",
      "['you', 'are', 'how', 'Hello']\n"
     ]
    },
    {
     "data": {
      "text/plain": [
       "'you are how Hello'"
      ]
     },
     "execution_count": 6,
     "metadata": {},
     "output_type": "execute_result"
    }
   ],
   "source": [
    "reverse_letters_sent(fed_sentence=\"Hello how are you\")"
   ]
  },
  {
   "cell_type": "code",
   "execution_count": 13,
   "metadata": {},
   "outputs": [],
   "source": [
    "def fibonacci_iterative(n):\n",
    "  \"\"\"\n",
    "  This function calculates the nth Fibonacci number using iteration.\n",
    "  \"\"\"\n",
    "  a, b = 0, 1\n",
    "  for _ in range(n):\n",
    "    print(\"A \"+str(a))\n",
    "    print(\"B \"+str(b))\n",
    "    a, b = b, a + b\n",
    "    print(\"cA \"+str(a))\n",
    "    print(\"cB \"+str(b))\n",
    "\n",
    "  return a"
   ]
  },
  {
   "cell_type": "code",
   "execution_count": 14,
   "metadata": {},
   "outputs": [
    {
     "name": "stdout",
     "output_type": "stream",
     "text": [
      "A 0\n",
      "B 1\n",
      "cA 1\n",
      "cB 1\n",
      "A 1\n",
      "B 1\n",
      "cA 1\n",
      "cB 2\n",
      "A 1\n",
      "B 2\n",
      "cA 2\n",
      "cB 3\n"
     ]
    },
    {
     "data": {
      "text/plain": [
       "2"
      ]
     },
     "execution_count": 14,
     "metadata": {},
     "output_type": "execute_result"
    }
   ],
   "source": [
    "fibonacci_iterative(3)"
   ]
  },
  {
   "cell_type": "code",
   "execution_count": 8,
   "metadata": {},
   "outputs": [
    {
     "name": "stdout",
     "output_type": "stream",
     "text": [
      "The 6th Fibonacci number is: 8\n"
     ]
    }
   ],
   "source": [
    "def fibonacci_recursive(n):\n",
    "  \"\"\"\n",
    "  This function calculates the nth Fibonacci number using recursion.\n",
    "  \"\"\"\n",
    "  if n <= 1:\n",
    "    return n\n",
    "  else:\n",
    "    return fibonacci_recursive(n-1) + fibonacci_recursive(n-2)\n",
    "\n",
    "# Example usage\n",
    "number = fibonacci_recursive(6)\n",
    "print(f\"The 6th Fibonacci number is: {number}\")  # Output: The 6th Fibonacci number is: 8\n"
   ]
  },
  {
   "cell_type": "code",
   "execution_count": null,
   "metadata": {},
   "outputs": [],
   "source": []
  }
 ],
 "metadata": {
  "kernelspec": {
   "display_name": "avb_dev1",
   "language": "python",
   "name": "python3"
  },
  "language_info": {
   "codemirror_mode": {
    "name": "ipython",
    "version": 3
   },
   "file_extension": ".py",
   "mimetype": "text/x-python",
   "name": "python",
   "nbconvert_exporter": "python",
   "pygments_lexer": "ipython3",
   "version": "3.11.5"
  }
 },
 "nbformat": 4,
 "nbformat_minor": 2
}
