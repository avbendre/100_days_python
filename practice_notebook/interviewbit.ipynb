{
 "cells": [
  {
   "cell_type": "code",
   "execution_count": 1,
   "metadata": {},
   "outputs": [],
   "source": [
    "def solve(A):\n",
    "        li=[]\n",
    "        li=A.split()\n",
    "        rev=li[::-1]\n",
    "        Ar = \" \".join(rev)\n",
    "        return Ar"
   ]
  },
  {
   "cell_type": "code",
   "execution_count": 2,
   "metadata": {},
   "outputs": [
    {
     "data": {
      "text/plain": [
       "'world Hello'"
      ]
     },
     "execution_count": 2,
     "metadata": {},
     "output_type": "execute_result"
    }
   ],
   "source": [
    "solve(A=\"Hello world\")"
   ]
  },
  {
   "cell_type": "code",
   "execution_count": 3,
   "metadata": {},
   "outputs": [],
   "source": [
    "def solve(A):\n",
    "  \"\"\"Reverses the order of words in a string and joins them with a space.\n",
    "\n",
    "  Args:\n",
    "      A: A string containing space-separated words.\n",
    "\n",
    "  Returns:\n",
    "      A new string with the words in reversed order and joined by spaces.\n",
    "  \"\"\"\n",
    "\n",
    "  words = A.split()\n",
    "  words.reverse()  # Reverse the list in-place\n",
    "  return \" \".join(words)"
   ]
  },
  {
   "cell_type": "code",
   "execution_count": 5,
   "metadata": {},
   "outputs": [
    {
     "data": {
      "text/plain": [
       "'Maye Hello'"
      ]
     },
     "execution_count": 5,
     "metadata": {},
     "output_type": "execute_result"
    }
   ],
   "source": [
    "solve(A=\"Hello Maye\")"
   ]
  },
  {
   "cell_type": "code",
   "execution_count": 6,
   "metadata": {},
   "outputs": [],
   "source": [
    "def singleNumber(A):\n",
    "    li = list(A)\n",
    "    nu = 1\n",
    "    li.sort()\n",
    "    t=set(li)\n",
    "    an= []\n",
    "    print(li)\n",
    "    for i in li:\n",
    "        if nu<len(li):\n",
    "            if i==li[nu]:\n",
    "                an.append(i)\n",
    "            nu+=1\n",
    "    ans=(t-set(an)).pop()\n",
    "    return ans"
   ]
  },
  {
   "cell_type": "code",
   "execution_count": null,
   "metadata": {},
   "outputs": [],
   "source": [
    "def singleNumber(A):\n",
    "    result = 0\n",
    "    for num in A: \n",
    "        result ^= num\n",
    "    return result"
   ]
  }
 ],
 "metadata": {
  "kernelspec": {
   "display_name": "avb_dev1",
   "language": "python",
   "name": "python3"
  },
  "language_info": {
   "codemirror_mode": {
    "name": "ipython",
    "version": 3
   },
   "file_extension": ".py",
   "mimetype": "text/x-python",
   "name": "python",
   "nbconvert_exporter": "python",
   "pygments_lexer": "ipython3",
   "version": "3.11.5"
  }
 },
 "nbformat": 4,
 "nbformat_minor": 2
}
