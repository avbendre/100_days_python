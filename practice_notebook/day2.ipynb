{
 "cells": [
  {
   "cell_type": "code",
   "execution_count": 2,
   "metadata": {},
   "outputs": [
    {
     "data": {
      "text/plain": [
       "True"
      ]
     },
     "execution_count": 2,
     "metadata": {},
     "output_type": "execute_result"
    }
   ],
   "source": [
    "'BANANA'.isupper()"
   ]
  },
  {
   "cell_type": "code",
   "execution_count": 11,
   "metadata": {},
   "outputs": [],
   "source": [
    "def main():\n",
    "    # YOUR CODE GOES HERE\n",
    "    # Please take input and print output to standard input/output (stdin/stdout)\n",
    "    # E.g. 'input()/raw_input()' for input & 'print' for output\n",
    "    x\n",
    "    y = \"Hello \"\n",
    "    ans = y + x\n",
    "    return ans\n",
    "\n",
    "if __name__ == '__main__':\n",
    "    x = input()\n",
    "    main()"
   ]
  },
  {
   "cell_type": "code",
   "execution_count": 12,
   "metadata": {},
   "outputs": [
    {
     "data": {
      "text/plain": [
       "'Hello InterviewBit'"
      ]
     },
     "execution_count": 12,
     "metadata": {},
     "output_type": "execute_result"
    }
   ],
   "source": [
    "main()"
   ]
  },
  {
   "cell_type": "code",
   "execution_count": 5,
   "metadata": {},
   "outputs": [],
   "source": [
    "s=input()"
   ]
  },
  {
   "cell_type": "code",
   "execution_count": 6,
   "metadata": {},
   "outputs": [
    {
     "data": {
      "text/plain": [
       "'Hi'"
      ]
     },
     "execution_count": 6,
     "metadata": {},
     "output_type": "execute_result"
    }
   ],
   "source": [
    "s"
   ]
  },
  {
   "cell_type": "code",
   "execution_count": 110,
   "metadata": {},
   "outputs": [],
   "source": [
    "def solve(A):\n",
    "    x=''\n",
    "    A = A.replace('0','1')\n",
    "    print(A)\n",
    "    count = 0\n",
    "    max_count = 0\n",
    "    for char in A:\n",
    "        if char == '1':\n",
    "            count += 1\n",
    "        else:\n",
    "            max_count = max(max_count, count)\n",
    "            count = 0  # Reset count for next sequence of ones\n",
    "    max_count = max(max_count, count)\n",
    "    return max_count\n",
    "    \n"
   ]
  },
  {
   "cell_type": "code",
   "execution_count": 111,
   "metadata": {},
   "outputs": [
    {
     "name": "stdout",
     "output_type": "stream",
     "text": [
      "11111111111111111111111111111111111111111111111111\n"
     ]
    },
    {
     "data": {
      "text/plain": [
       "50"
      ]
     },
     "execution_count": 111,
     "metadata": {},
     "output_type": "execute_result"
    }
   ],
   "source": [
    "solve(A='11001000001111111010100100100110101011101101101010')"
   ]
  },
  {
   "cell_type": "code",
   "execution_count": 92,
   "metadata": {},
   "outputs": [
    {
     "name": "stdout",
     "output_type": "stream",
     "text": [
      "The substring '11' appears 6 times in '001111111'.\n"
     ]
    }
   ],
   "source": []
  },
  {
   "cell_type": "code",
   "execution_count": 114,
   "metadata": {},
   "outputs": [
    {
     "name": "stdout",
     "output_type": "stream",
     "text": [
      "[1, 2, 9]\n"
     ]
    }
   ],
   "source": [
    "def max_ones_after_flip(A):\n",
    "    # Initialize variables to keep track of the current window's length, the maximum length found, \n",
    "    # and the count of zeros in the current window.\n",
    "    left = 0\n",
    "    zero_count = 0\n",
    "    max_length = 0\n",
    "\n",
    "    # Iterate through the string using 'right' as the right index of the window.\n",
    "    for right in range(len(A)):\n",
    "        # Increment zero_count if the current character is '0'.\n",
    "        if A[right] == '0':\n",
    "            zero_count += 1\n",
    "\n",
    "        # While the window contains more than one '0', move the left pointer to the right\n",
    "        # to shrink the window until it contains at most one '0'.\n",
    "        while zero_count > 1:\n",
    "            if A[left] == '0':\n",
    "                zero_count -= 1\n",
    "            left += 1\n",
    "\n",
    "        # Update max_length to the maximum length found so far.\n",
    "        max_length = max(max_length, right - left + 1)\n",
    "\n",
    "    return max_length\n",
    "\n",
    "# Example inputs\n",
    "inputs = [\"000\", \"10010\", \"11001000001111111010100100100110101011101101101010\"]\n",
    "# Calculate and print outputs for the given inputs\n",
    "outputs = [max_ones_after_flip(input) for input in inputs]\n",
    "print(outputs)\n"
   ]
  },
  {
   "cell_type": "code",
   "execution_count": 103,
   "metadata": {},
   "outputs": [
    {
     "name": "stdout",
     "output_type": "stream",
     "text": [
      "Length of longest contiguous 1s after flip: 9\n",
      "Potential flip window: indices 10 to 18\n"
     ]
    }
   ],
   "source": []
  },
  {
   "cell_type": "code",
   "execution_count": null,
   "metadata": {},
   "outputs": [],
   "source": []
  }
 ],
 "metadata": {
  "kernelspec": {
   "display_name": "avb_dev1",
   "language": "python",
   "name": "python3"
  },
  "language_info": {
   "codemirror_mode": {
    "name": "ipython",
    "version": 3
   },
   "file_extension": ".py",
   "mimetype": "text/x-python",
   "name": "python",
   "nbconvert_exporter": "python",
   "pygments_lexer": "ipython3",
   "version": "3.11.5"
  }
 },
 "nbformat": 4,
 "nbformat_minor": 2
}
