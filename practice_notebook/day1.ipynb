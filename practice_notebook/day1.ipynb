{
 "cells": [
  {
   "cell_type": "markdown",
   "metadata": {},
   "source": [
    "#### Find if the words are anagram"
   ]
  },
  {
   "cell_type": "code",
   "execution_count": 42,
   "metadata": {},
   "outputs": [],
   "source": [
    "def is_anagram(char_1,char_2):\n",
    "    char_1 = char_1.lower()\n",
    "    char_2 = char_2.lower()\n",
    "    print(char_1)\n",
    "    char_1_count = {}\n",
    "    char_2_count = {}\n",
    "    for ch1 in char_1:\n",
    "        char_1_count[ch1] = char_1_count.get(ch1, 0) + 1\n",
    "    for ch2 in char_2:\n",
    "        char_2_count[ch2] = char_2_count.get(ch2, 0) + 1\n",
    "    if char_1_count == char_2_count:\n",
    "        return True        \n",
    "    return False\n"
   ]
  },
  {
   "cell_type": "code",
   "execution_count": 43,
   "metadata": {},
   "outputs": [
    {
     "name": "stdout",
     "output_type": "stream",
     "text": [
      "race\n"
     ]
    }
   ],
   "source": [
    "ans=is_anagram( \"rAce\",\"care\")"
   ]
  },
  {
   "cell_type": "code",
   "execution_count": 44,
   "metadata": {},
   "outputs": [
    {
     "name": "stdout",
     "output_type": "stream",
     "text": [
      "True\n"
     ]
    }
   ],
   "source": [
    "print(ans)"
   ]
  },
  {
   "cell_type": "markdown",
   "metadata": {},
   "source": [
    "#### Count the number of similar words thru the above technique"
   ]
  },
  {
   "cell_type": "code",
   "execution_count": 45,
   "metadata": {},
   "outputs": [],
   "source": [
    "def word_count(sent1,sent2):\n",
    "    li1=sent1.lower().split()\n",
    "    li2=sent2.lower().split()\n",
    "    di1={}\n",
    "    di2={}\n",
    "    for l1 in li1:\n",
    "        di1[l1] = di1.get(l1,0)+1\n",
    "    for l2 in li2:\n",
    "        di2[l2] = di2.get(l2,0)+1\n",
    "    \n",
    "    print(di1)  \n",
    "    "
   ]
  },
  {
   "cell_type": "code",
   "execution_count": 46,
   "metadata": {},
   "outputs": [
    {
     "name": "stdout",
     "output_type": "stream",
     "text": [
      "{'hw': 1, 'are': 1, 'you': 1, 'doing': 1, 'today': 1}\n"
     ]
    }
   ],
   "source": [
    "s=\"Hw are you doing today\"\n",
    "k=\"Hi there\"\n",
    "word_count(s,k)"
   ]
  },
  {
   "cell_type": "markdown",
   "metadata": {},
   "source": [
    "Finding the most frequent words in the sentences"
   ]
  },
  {
   "cell_type": "code",
   "execution_count": 55,
   "metadata": {},
   "outputs": [],
   "source": [
    "def freq_letter(s1):\n",
    "    freq_dict={}\n",
    "    for i in s1:\n",
    "        freq_dict[i] = freq_dict.get(i,0)+1\n",
    "    return freq_dict"
   ]
  },
  {
   "cell_type": "code",
   "execution_count": 56,
   "metadata": {},
   "outputs": [],
   "source": [
    "ans=freq_letter(\"this is most frequent word, this\")"
   ]
  },
  {
   "cell_type": "code",
   "execution_count": 62,
   "metadata": {},
   "outputs": [
    {
     "data": {
      "text/plain": [
       "dict_items([('t', 4), ('h', 2), ('i', 3), ('s', 4), (' ', 5), ('m', 1), ('o', 2), ('f', 1), ('r', 2), ('e', 2), ('q', 1), ('u', 1), ('n', 1), ('w', 1), ('d', 1), (',', 1)])"
      ]
     },
     "execution_count": 62,
     "metadata": {},
     "output_type": "execute_result"
    }
   ],
   "source": [
    "ans.items()"
   ]
  },
  {
   "cell_type": "markdown",
   "metadata": {},
   "source": [
    "Frequent words in a sentence"
   ]
  },
  {
   "cell_type": "code",
   "execution_count": 64,
   "metadata": {},
   "outputs": [],
   "source": [
    "def freq_word(s1):\n",
    "    sp = s1.lower().split()\n",
    "    freq_dict={}\n",
    "    for i in sp:\n",
    "        freq_dict[i] = freq_dict.get(i,0)+1\n",
    "    return freq_dict"
   ]
  },
  {
   "cell_type": "code",
   "execution_count": 78,
   "metadata": {},
   "outputs": [],
   "source": [
    "ans=freq_word(s1 = \"This is the most frequent word  this word word\")"
   ]
  },
  {
   "cell_type": "code",
   "execution_count": 79,
   "metadata": {},
   "outputs": [
    {
     "data": {
      "text/plain": [
       "2"
      ]
     },
     "execution_count": 79,
     "metadata": {},
     "output_type": "execute_result"
    }
   ],
   "source": [
    "ans.get('this')"
   ]
  },
  {
   "cell_type": "code",
   "execution_count": 80,
   "metadata": {},
   "outputs": [],
   "source": [
    "most_frequent_word = None\n",
    "highest_count = 0\n",
    "\n",
    "# Iterate through the word_counts dictionary to find the maximum count\n",
    "for word, count in ans.items():\n",
    "  if count > highest_count:\n",
    "    most_frequent_word = word\n",
    "    highest_count = count"
   ]
  },
  {
   "cell_type": "code",
   "execution_count": 82,
   "metadata": {},
   "outputs": [
    {
     "data": {
      "text/plain": [
       "'word'"
      ]
     },
     "execution_count": 82,
     "metadata": {},
     "output_type": "execute_result"
    }
   ],
   "source": [
    "most_frequent_word"
   ]
  },
  {
   "cell_type": "markdown",
   "metadata": {},
   "source": [
    "Reversing the list"
   ]
  },
  {
   "cell_type": "code",
   "execution_count": 91,
   "metadata": {},
   "outputs": [],
   "source": [
    "def list_rev(li):\n",
    "    rl=[]\n",
    "    for i in range(len(li) -1, -1,-1):\n",
    "        rl.append(li[i])\n",
    "    return rl\n"
   ]
  },
  {
   "cell_type": "code",
   "execution_count": 92,
   "metadata": {},
   "outputs": [],
   "source": [
    "ans=list_rev(li=[342,2,3,4,5,6])"
   ]
  },
  {
   "cell_type": "code",
   "execution_count": 93,
   "metadata": {},
   "outputs": [
    {
     "data": {
      "text/plain": [
       "[6, 5, 4, 3, 2, 342]"
      ]
     },
     "execution_count": 93,
     "metadata": {},
     "output_type": "execute_result"
    }
   ],
   "source": [
    "ans"
   ]
  },
  {
   "cell_type": "markdown",
   "metadata": {},
   "source": [
    "Reverse a string"
   ]
  },
  {
   "cell_type": "code",
   "execution_count": 108,
   "metadata": {},
   "outputs": [],
   "source": [
    "def rev_string(st):\n",
    "    rv = \"\"\n",
    "    for i in range(len(st)-1,-1,-1):\n",
    "        # print(st[i])\n",
    "        rv+=\"\".join(st[i])\n",
    "    return rv\n"
   ]
  },
  {
   "cell_type": "code",
   "execution_count": 109,
   "metadata": {},
   "outputs": [
    {
     "data": {
      "text/plain": [
       "'kehsihba'"
      ]
     },
     "execution_count": 109,
     "metadata": {},
     "output_type": "execute_result"
    }
   ],
   "source": [
    "rev_string(\"abhishek\")"
   ]
  },
  {
   "cell_type": "markdown",
   "metadata": {},
   "source": [
    "Detect the Palindrom"
   ]
  },
  {
   "cell_type": "code",
   "execution_count": 111,
   "metadata": {},
   "outputs": [],
   "source": [
    "def is_palindrom(s1):\n",
    "    s2=s1\n",
    "    ck=\"\"\n",
    "    for i in range(len(s1)-1,-1,-1):\n",
    "        ck+=\"\".join(s1[i])\n",
    "    if ck==s2:\n",
    "        return True"
   ]
  },
  {
   "cell_type": "code",
   "execution_count": 112,
   "metadata": {},
   "outputs": [
    {
     "data": {
      "text/plain": [
       "True"
      ]
     },
     "execution_count": 112,
     "metadata": {},
     "output_type": "execute_result"
    }
   ],
   "source": [
    "is_palindrom(\"gadag\")"
   ]
  },
  {
   "cell_type": "markdown",
   "metadata": {},
   "source": [
    "Validating Password"
   ]
  },
  {
   "cell_type": "code",
   "execution_count": 117,
   "metadata": {},
   "outputs": [
    {
     "name": "stdout",
     "output_type": "stream",
     "text": [
      "Password is valid\n"
     ]
    }
   ],
   "source": [
    "def validate_password(password):\n",
    "\n",
    "  uppercase_count = sum(1 for char in password if 'A' <= char <= 'Z')\n",
    "  lowercase_count = sum(1 for char in password if 'a' <= char <= 'z')\n",
    "  special_count = sum(1 for char in password if (not char.isalnum()) and not char.isspace())\n",
    "  numeric_count = sum(1 for char in password if char.isdigit())\n",
    "\n",
    "  return (len(password) >= 8 and\n",
    "          uppercase_count >= 2 and\n",
    "          lowercase_count >= 2 and\n",
    "          special_count >= 1 and\n",
    "          numeric_count >= 2)\n",
    "\n",
    "# Example usage\n",
    "password = \"P@sswf!d0rD123\"\n",
    "if validate_password(password):\n",
    "  print(\"Password is valid\")\n",
    "else:\n",
    "  print(\"Password is invalid\")\n"
   ]
  },
  {
   "cell_type": "markdown",
   "metadata": {},
   "source": [
    "Third heighest digit in list"
   ]
  },
  {
   "cell_type": "code",
   "execution_count": 119,
   "metadata": {},
   "outputs": [
    {
     "name": "stdout",
     "output_type": "stream",
     "text": [
      "51\n"
     ]
    }
   ],
   "source": [
    "def find_third_largest(remaining_list, current_largest, second_largest, third_largest):\n",
    "  if len(remaining_list) == 0:\n",
    "    return third_largest\n",
    "\n",
    "  # Compare current element against existing candidates\n",
    "  element = remaining_list[0]\n",
    "  if element > current_largest:\n",
    "    return find_third_largest(remaining_list[1:], element, current_largest, second_largest)\n",
    "  elif element > second_largest and element <= current_largest:\n",
    "    return find_third_largest(remaining_list[1:], current_largest, element, second_largest)\n",
    "  elif element > third_largest and element <= second_largest:\n",
    "    return find_third_largest(remaining_list[1:], current_largest, second_largest, element)\n",
    "  else:\n",
    "    return find_third_largest(remaining_list[1:], current_largest, second_largest, third_largest)\n",
    "\n",
    "li = [34, 93, 27, 51, 52]\n",
    "\n",
    "third_largest = find_third_largest(li, float('-inf'), float('-inf'), float('-inf'))\n",
    "print(third_largest)  # Output: 51\n",
    "\n",
    "\n",
    "\n",
    "third_largest = find_third_largest(li, 0,0,0)\n"
   ]
  },
  {
   "cell_type": "code",
   "execution_count": 120,
   "metadata": {},
   "outputs": [
    {
     "data": {
      "text/plain": [
       "51"
      ]
     },
     "execution_count": 120,
     "metadata": {},
     "output_type": "execute_result"
    }
   ],
   "source": [
    "third_largest"
   ]
  },
  {
   "cell_type": "code",
   "execution_count": 124,
   "metadata": {},
   "outputs": [],
   "source": [
    "li=[1,2,3,5,6,67]\n",
    "third_largest = find_third_largest(li,0,0,0)"
   ]
  },
  {
   "cell_type": "code",
   "execution_count": 125,
   "metadata": {},
   "outputs": [
    {
     "data": {
      "text/plain": [
       "5"
      ]
     },
     "execution_count": 125,
     "metadata": {},
     "output_type": "execute_result"
    }
   ],
   "source": [
    "third_largest"
   ]
  },
  {
   "cell_type": "code",
   "execution_count": 127,
   "metadata": {},
   "outputs": [
    {
     "name": "stdout",
     "output_type": "stream",
     "text": [
      "51\n"
     ]
    }
   ],
   "source": [
    "def find_third_largest(remaining_list, current_largest, second_largest, third_largest):\n",
    "  if len(remaining_list) == 0:\n",
    "    return third_largest\n",
    "\n",
    "  # Compare current element against existing candidates\n",
    "  element = remaining_list[0]\n",
    "#   current_largest = 0\n",
    "#   second_largest = 0\n",
    "#   third_largest = 0\n",
    "  if element > current_largest:\n",
    "    return find_third_largest(remaining_list[1:], element, current_largest, second_largest)\n",
    "  elif element > second_largest and element <= current_largest:\n",
    "    return find_third_largest(remaining_list[1:], current_largest, element, second_largest)\n",
    "  elif element > third_largest and element <= second_largest:\n",
    "    return find_third_largest(remaining_list[1:], current_largest, second_largest, element)\n",
    "  else:\n",
    "    return find_third_largest(remaining_list[1:], current_largest, second_largest, third_largest)\n",
    "\n",
    "li = [34, 93, 27, 51, 52]\n",
    "\n",
    "third_largest = find_third_largest(li, float('-inf'), float('-inf'), float('-inf'))\n",
    "print(third_largest)  # Output: 51\n",
    "\n",
    "\n",
    "\n",
    "third_largest = find_third_largest(li, 0,0,0)"
   ]
  },
  {
   "cell_type": "code",
   "execution_count": 128,
   "metadata": {},
   "outputs": [
    {
     "name": "stdout",
     "output_type": "stream",
     "text": [
      "51\n"
     ]
    }
   ],
   "source": [
    "def find_third_largest(data):\n",
    "  \"\"\"\n",
    "  Finds the third largest element in a list without loops or built-in functions.\n",
    "\n",
    "  Args:\n",
    "      data: The list of numbers to search.\n",
    "\n",
    "  Returns:\n",
    "      The third largest element in the list, or None if the list has less than 3 elements.\n",
    "  \"\"\"\n",
    "\n",
    "  # Initialize variables to track largest candidates\n",
    "  largest = float('-inf')\n",
    "  second_largest = float('-inf')\n",
    "  third_largest = float('-inf')\n",
    "\n",
    "  for element in data:\n",
    "    # Compare with current candidates\n",
    "    if element > largest:\n",
    "      # Largest becomes second largest, second becomes third, element becomes largest\n",
    "      third_largest = second_largest\n",
    "      second_largest = largest\n",
    "      largest = element\n",
    "    elif element > second_largest and element <= largest:\n",
    "      # Element becomes second largest, pushing previous to third\n",
    "      third_largest = second_largest\n",
    "      second_largest = element\n",
    "    elif element > third_largest and element <= second_largest:\n",
    "      # Element becomes third largest\n",
    "      third_largest = element\n",
    "\n",
    "  return third_largest\n",
    "\n",
    "# Example usage\n",
    "data = [34, 93, 27, 51, 52]\n",
    "third_largest = find_third_largest(data)\n",
    "print(third_largest)  # Output: 51\n"
   ]
  },
  {
   "cell_type": "code",
   "execution_count": null,
   "metadata": {},
   "outputs": [],
   "source": []
  },
  {
   "cell_type": "code",
   "execution_count": null,
   "metadata": {},
   "outputs": [],
   "source": []
  }
 ],
 "metadata": {
  "kernelspec": {
   "display_name": "avb_dev1",
   "language": "python",
   "name": "python3"
  },
  "language_info": {
   "codemirror_mode": {
    "name": "ipython",
    "version": 3
   },
   "file_extension": ".py",
   "mimetype": "text/x-python",
   "name": "python",
   "nbconvert_exporter": "python",
   "pygments_lexer": "ipython3",
   "version": "3.11.5"
  }
 },
 "nbformat": 4,
 "nbformat_minor": 2
}
